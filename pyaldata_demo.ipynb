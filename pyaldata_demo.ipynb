{
 "cells": [
  {
   "cell_type": "code",
   "execution_count": 1,
   "metadata": {},
   "outputs": [],
   "source": [
    "import pandas as pd\n",
    "import numpy as np\n",
    "import xarray as xr\n",
    "\n",
    "import os\n",
    "from tqdm.auto import tqdm\n",
    "\n",
    "import matplotlib.pyplot as plt\n",
    "import seaborn as sns"
   ]
  },
  {
   "cell_type": "code",
   "execution_count": 2,
   "metadata": {},
   "outputs": [],
   "source": [
    "from pyaldata import *"
   ]
  },
  {
   "cell_type": "markdown",
   "metadata": {},
   "source": [
    "# Load data"
   ]
  },
  {
   "cell_type": "code",
   "execution_count": 3,
   "metadata": {},
   "outputs": [],
   "source": [
    "data_dir = \"/Users/bagibence/Box Sync/Imperial/data/\"\n",
    "fname = os.path.join(data_dir, \"Chewie_CO_CS_2016-10-21.mat\")"
   ]
  },
  {
   "cell_type": "code",
   "execution_count": 4,
   "metadata": {},
   "outputs": [],
   "source": [
    "# load TrialData .mat file into a DataFrame\n",
    "df = mat2dataframe(fname, True)"
   ]
  },
  {
   "cell_type": "code",
   "execution_count": 5,
   "metadata": {},
   "outputs": [
    {
     "data": {
      "text/html": [
       "<div>\n",
       "<style scoped>\n",
       "    .dataframe tbody tr th:only-of-type {\n",
       "        vertical-align: middle;\n",
       "    }\n",
       "\n",
       "    .dataframe tbody tr th {\n",
       "        vertical-align: top;\n",
       "    }\n",
       "\n",
       "    .dataframe thead th {\n",
       "        text-align: right;\n",
       "    }\n",
       "</style>\n",
       "<table border=\"1\" class=\"dataframe\">\n",
       "  <thead>\n",
       "    <tr style=\"text-align: right;\">\n",
       "      <th></th>\n",
       "      <th>monkey</th>\n",
       "      <th>date</th>\n",
       "      <th>task</th>\n",
       "      <th>target_direction</th>\n",
       "      <th>trial_id</th>\n",
       "      <th>result</th>\n",
       "      <th>bin_size</th>\n",
       "      <th>perturbation</th>\n",
       "      <th>perturbation_info</th>\n",
       "      <th>epoch</th>\n",
       "      <th>...</th>\n",
       "      <th>idx_peak_speed</th>\n",
       "      <th>idx_trial_end</th>\n",
       "      <th>pos</th>\n",
       "      <th>vel</th>\n",
       "      <th>acc</th>\n",
       "      <th>force</th>\n",
       "      <th>M1_spikes</th>\n",
       "      <th>M1_unit_guide</th>\n",
       "      <th>PMd_spikes</th>\n",
       "      <th>PMd_unit_guide</th>\n",
       "    </tr>\n",
       "  </thead>\n",
       "  <tbody>\n",
       "    <tr>\n",
       "      <th>0</th>\n",
       "      <td>Chewie</td>\n",
       "      <td>10-21-2016</td>\n",
       "      <td>CO</td>\n",
       "      <td>0.785398</td>\n",
       "      <td>1</td>\n",
       "      <td>R</td>\n",
       "      <td>0.01</td>\n",
       "      <td>CS</td>\n",
       "      <td>-0.52</td>\n",
       "      <td>BL</td>\n",
       "      <td>...</td>\n",
       "      <td>369</td>\n",
       "      <td>446</td>\n",
       "      <td>[[5.778064202616431, -35.397015549165786], [5....</td>\n",
       "      <td>[[-0.7793813732066821, 4.136785603960551], [-1...</td>\n",
       "      <td>[[-51.969786428074926, 14.202847093285325], [-...</td>\n",
       "      <td>[[0.12316992347195488, 0.2506054987408934], [0...</td>\n",
       "      <td>[[0, 0, 0, 0, 0, 0, 0, 0, 0, 0, 0, 0, 1, 1, 0,...</td>\n",
       "      <td>[[1, 1], [1, 2], [3, 1], [5, 1], [5, 2], [7, 1...</td>\n",
       "      <td>[[0, 0, 0, 0, 0, 0, 0, 0, 0, 0, 0, 0, 0, 0, 0,...</td>\n",
       "      <td>[[1, 1], [1, 2], [1, 3], [4, 1], [4, 2], [5, 1...</td>\n",
       "    </tr>\n",
       "    <tr>\n",
       "      <th>1</th>\n",
       "      <td>Chewie</td>\n",
       "      <td>10-21-2016</td>\n",
       "      <td>CO</td>\n",
       "      <td>1.570796</td>\n",
       "      <td>2</td>\n",
       "      <td>R</td>\n",
       "      <td>0.01</td>\n",
       "      <td>CS</td>\n",
       "      <td>-0.52</td>\n",
       "      <td>BL</td>\n",
       "      <td>...</td>\n",
       "      <td>312</td>\n",
       "      <td>374</td>\n",
       "      <td>[[5.749738457404149, -24.643406091404042], [5....</td>\n",
       "      <td>[[1.9163909188240478, -2.763349295373866], [1....</td>\n",
       "      <td>[[-36.779409320972285, 1.7821809867372298], [-...</td>\n",
       "      <td>[[0.3685575721810173, 0.17911060954700603], [0...</td>\n",
       "      <td>[[0, 0, 0, 0, 0, 0, 0, 0, 0, 0, 0, 0, 0, 0, 0,...</td>\n",
       "      <td>[[1, 1], [1, 2], [3, 1], [5, 1], [5, 2], [7, 1...</td>\n",
       "      <td>[[0, 0, 0, 0, 0, 0, 0, 0, 0, 0, 0, 0, 0, 0, 0,...</td>\n",
       "      <td>[[1, 1], [1, 2], [1, 3], [4, 1], [4, 2], [5, 1...</td>\n",
       "    </tr>\n",
       "    <tr>\n",
       "      <th>2</th>\n",
       "      <td>Chewie</td>\n",
       "      <td>10-21-2016</td>\n",
       "      <td>CO</td>\n",
       "      <td>-1.570796</td>\n",
       "      <td>3</td>\n",
       "      <td>R</td>\n",
       "      <td>0.01</td>\n",
       "      <td>CS</td>\n",
       "      <td>-0.52</td>\n",
       "      <td>BL</td>\n",
       "      <td>...</td>\n",
       "      <td>341</td>\n",
       "      <td>405</td>\n",
       "      <td>[[-0.08846028882207335, -21.796383214740942], ...</td>\n",
       "      <td>[[0.6600912719115256, -4.014682191879345], [0....</td>\n",
       "      <td>[[15.812499710917256, 16.621785484272777], [10...</td>\n",
       "      <td>[[0.3523246575179767, -0.09122904723894733], [...</td>\n",
       "      <td>[[0, 0, 0, 0, 0, 0, 0, 0, 0, 0, 0, 0, 0, 0, 1,...</td>\n",
       "      <td>[[1, 1], [1, 2], [3, 1], [5, 1], [5, 2], [7, 1...</td>\n",
       "      <td>[[0, 0, 0, 0, 0, 0, 0, 0, 0, 0, 0, 0, 0, 0, 0,...</td>\n",
       "      <td>[[1, 1], [1, 2], [1, 3], [4, 1], [4, 2], [5, 1...</td>\n",
       "    </tr>\n",
       "    <tr>\n",
       "      <th>3</th>\n",
       "      <td>Chewie</td>\n",
       "      <td>10-21-2016</td>\n",
       "      <td>CO</td>\n",
       "      <td>3.141593</td>\n",
       "      <td>4</td>\n",
       "      <td>R</td>\n",
       "      <td>0.01</td>\n",
       "      <td>CS</td>\n",
       "      <td>-0.52</td>\n",
       "      <td>BL</td>\n",
       "      <td>...</td>\n",
       "      <td>269</td>\n",
       "      <td>326</td>\n",
       "      <td>[[0.2044172614704891, -37.980265533779594], [0...</td>\n",
       "      <td>[[4.529933995107801, 4.629844429981232], [4.06...</td>\n",
       "      <td>[[-39.8450200830264, 25.037788333969146], [-48...</td>\n",
       "      <td>[[0.16886748091580156, 0.07539164418520175], [...</td>\n",
       "      <td>[[0, 1, 1, 0, 0, 1, 0, 0, 0, 0, 1, 0, 0, 0, 0,...</td>\n",
       "      <td>[[1, 1], [1, 2], [3, 1], [5, 1], [5, 2], [7, 1...</td>\n",
       "      <td>[[0, 0, 0, 0, 0, 0, 0, 0, 0, 0, 0, 0, 0, 0, 0,...</td>\n",
       "      <td>[[1, 1], [1, 2], [1, 3], [4, 1], [4, 2], [5, 1...</td>\n",
       "    </tr>\n",
       "    <tr>\n",
       "      <th>4</th>\n",
       "      <td>Chewie</td>\n",
       "      <td>10-21-2016</td>\n",
       "      <td>CO</td>\n",
       "      <td>-2.356194</td>\n",
       "      <td>5</td>\n",
       "      <td>R</td>\n",
       "      <td>0.01</td>\n",
       "      <td>CS</td>\n",
       "      <td>-0.52</td>\n",
       "      <td>BL</td>\n",
       "      <td>...</td>\n",
       "      <td>347</td>\n",
       "      <td>414</td>\n",
       "      <td>[[-8.487759048702024, -29.610739441410566], [-...</td>\n",
       "      <td>[[3.3872550577518203, -0.3581721292107508], [4...</td>\n",
       "      <td>[[88.37767895758228, -30.26694467609077], [95....</td>\n",
       "      <td>[[0.5500420770141063, -0.39266117674997386], [...</td>\n",
       "      <td>[[0, 0, 0, 1, 1, 1, 0, 0, 0, 1, 0, 0, 0, 0, 0,...</td>\n",
       "      <td>[[1, 1], [1, 2], [3, 1], [5, 1], [5, 2], [7, 1...</td>\n",
       "      <td>[[1, 0, 0, 0, 0, 0, 0, 0, 0, 0, 0, 0, 0, 0, 0,...</td>\n",
       "      <td>[[1, 1], [1, 2], [1, 3], [4, 1], [4, 2], [5, 1...</td>\n",
       "    </tr>\n",
       "  </tbody>\n",
       "</table>\n",
       "<p>5 rows × 24 columns</p>\n",
       "</div>"
      ],
      "text/plain": [
       "   monkey        date task  target_direction  trial_id result  bin_size  \\\n",
       "0  Chewie  10-21-2016   CO          0.785398         1      R      0.01   \n",
       "1  Chewie  10-21-2016   CO          1.570796         2      R      0.01   \n",
       "2  Chewie  10-21-2016   CO         -1.570796         3      R      0.01   \n",
       "3  Chewie  10-21-2016   CO          3.141593         4      R      0.01   \n",
       "4  Chewie  10-21-2016   CO         -2.356194         5      R      0.01   \n",
       "\n",
       "  perturbation  perturbation_info epoch  ...  idx_peak_speed  idx_trial_end  \\\n",
       "0           CS              -0.52    BL  ...             369            446   \n",
       "1           CS              -0.52    BL  ...             312            374   \n",
       "2           CS              -0.52    BL  ...             341            405   \n",
       "3           CS              -0.52    BL  ...             269            326   \n",
       "4           CS              -0.52    BL  ...             347            414   \n",
       "\n",
       "                                                 pos  \\\n",
       "0  [[5.778064202616431, -35.397015549165786], [5....   \n",
       "1  [[5.749738457404149, -24.643406091404042], [5....   \n",
       "2  [[-0.08846028882207335, -21.796383214740942], ...   \n",
       "3  [[0.2044172614704891, -37.980265533779594], [0...   \n",
       "4  [[-8.487759048702024, -29.610739441410566], [-...   \n",
       "\n",
       "                                                 vel  \\\n",
       "0  [[-0.7793813732066821, 4.136785603960551], [-1...   \n",
       "1  [[1.9163909188240478, -2.763349295373866], [1....   \n",
       "2  [[0.6600912719115256, -4.014682191879345], [0....   \n",
       "3  [[4.529933995107801, 4.629844429981232], [4.06...   \n",
       "4  [[3.3872550577518203, -0.3581721292107508], [4...   \n",
       "\n",
       "                                                 acc  \\\n",
       "0  [[-51.969786428074926, 14.202847093285325], [-...   \n",
       "1  [[-36.779409320972285, 1.7821809867372298], [-...   \n",
       "2  [[15.812499710917256, 16.621785484272777], [10...   \n",
       "3  [[-39.8450200830264, 25.037788333969146], [-48...   \n",
       "4  [[88.37767895758228, -30.26694467609077], [95....   \n",
       "\n",
       "                                               force  \\\n",
       "0  [[0.12316992347195488, 0.2506054987408934], [0...   \n",
       "1  [[0.3685575721810173, 0.17911060954700603], [0...   \n",
       "2  [[0.3523246575179767, -0.09122904723894733], [...   \n",
       "3  [[0.16886748091580156, 0.07539164418520175], [...   \n",
       "4  [[0.5500420770141063, -0.39266117674997386], [...   \n",
       "\n",
       "                                           M1_spikes  \\\n",
       "0  [[0, 0, 0, 0, 0, 0, 0, 0, 0, 0, 0, 0, 1, 1, 0,...   \n",
       "1  [[0, 0, 0, 0, 0, 0, 0, 0, 0, 0, 0, 0, 0, 0, 0,...   \n",
       "2  [[0, 0, 0, 0, 0, 0, 0, 0, 0, 0, 0, 0, 0, 0, 1,...   \n",
       "3  [[0, 1, 1, 0, 0, 1, 0, 0, 0, 0, 1, 0, 0, 0, 0,...   \n",
       "4  [[0, 0, 0, 1, 1, 1, 0, 0, 0, 1, 0, 0, 0, 0, 0,...   \n",
       "\n",
       "                                       M1_unit_guide  \\\n",
       "0  [[1, 1], [1, 2], [3, 1], [5, 1], [5, 2], [7, 1...   \n",
       "1  [[1, 1], [1, 2], [3, 1], [5, 1], [5, 2], [7, 1...   \n",
       "2  [[1, 1], [1, 2], [3, 1], [5, 1], [5, 2], [7, 1...   \n",
       "3  [[1, 1], [1, 2], [3, 1], [5, 1], [5, 2], [7, 1...   \n",
       "4  [[1, 1], [1, 2], [3, 1], [5, 1], [5, 2], [7, 1...   \n",
       "\n",
       "                                          PMd_spikes  \\\n",
       "0  [[0, 0, 0, 0, 0, 0, 0, 0, 0, 0, 0, 0, 0, 0, 0,...   \n",
       "1  [[0, 0, 0, 0, 0, 0, 0, 0, 0, 0, 0, 0, 0, 0, 0,...   \n",
       "2  [[0, 0, 0, 0, 0, 0, 0, 0, 0, 0, 0, 0, 0, 0, 0,...   \n",
       "3  [[0, 0, 0, 0, 0, 0, 0, 0, 0, 0, 0, 0, 0, 0, 0,...   \n",
       "4  [[1, 0, 0, 0, 0, 0, 0, 0, 0, 0, 0, 0, 0, 0, 0,...   \n",
       "\n",
       "                                      PMd_unit_guide  \n",
       "0  [[1, 1], [1, 2], [1, 3], [4, 1], [4, 2], [5, 1...  \n",
       "1  [[1, 1], [1, 2], [1, 3], [4, 1], [4, 2], [5, 1...  \n",
       "2  [[1, 1], [1, 2], [1, 3], [4, 1], [4, 2], [5, 1...  \n",
       "3  [[1, 1], [1, 2], [1, 3], [4, 1], [4, 2], [5, 1...  \n",
       "4  [[1, 1], [1, 2], [1, 3], [4, 1], [4, 2], [5, 1...  \n",
       "\n",
       "[5 rows x 24 columns]"
      ]
     },
     "execution_count": 5,
     "metadata": {},
     "output_type": "execute_result"
    }
   ],
   "source": [
    "df.head()"
   ]
  },
  {
   "cell_type": "markdown",
   "metadata": {},
   "source": [
    "# Preprocess "
   ]
  },
  {
   "cell_type": "markdown",
   "metadata": {},
   "source": [
    "## combine bins into longer ones"
   ]
  },
  {
   "cell_type": "code",
   "execution_count": 5,
   "metadata": {},
   "outputs": [
    {
     "data": {
      "text/plain": [
       "0    0.01\n",
       "1    0.01\n",
       "2    0.01\n",
       "3    0.01\n",
       "4    0.01\n",
       "Name: bin_size, dtype: float64"
      ]
     },
     "execution_count": 5,
     "metadata": {},
     "output_type": "execute_result"
    }
   ],
   "source": [
    "df.head().bin_size"
   ]
  },
  {
   "cell_type": "code",
   "execution_count": 6,
   "metadata": {},
   "outputs": [
    {
     "data": {
      "text/plain": [
       "0    0.02\n",
       "1    0.02\n",
       "2    0.02\n",
       "3    0.02\n",
       "4    0.02\n",
       "Name: bin_size, dtype: float64"
      ]
     },
     "execution_count": 6,
     "metadata": {},
     "output_type": "execute_result"
    }
   ],
   "source": [
    "td = combine_time_bins(df, 2)\n",
    "td.head().bin_size"
   ]
  },
  {
   "cell_type": "code",
   "execution_count": 7,
   "metadata": {},
   "outputs": [
    {
     "name": "stdout",
     "output_type": "stream",
     "text": [
      "(457, 84)\n",
      "(228, 84)\n"
     ]
    }
   ],
   "source": [
    "# time-varying signals have new time coordinates\n",
    "print(df.M1_spikes[0].shape)\n",
    "print(td.M1_spikes[0].shape)"
   ]
  },
  {
   "cell_type": "code",
   "execution_count": 8,
   "metadata": {},
   "outputs": [
    {
     "name": "stderr",
     "output_type": "stream",
     "text": [
      "/Users/bagibence/Box Sync/Imperial/PyalData/pyaldata/tools.py:979: UserWarning: Assuming spikes are actually spikes and dividing by bin size.\n",
      "  utils.warnings.warn(\"Assuming spikes are actually spikes and dividing by bin size.\")\n"
     ]
    },
    {
     "data": {
      "text/plain": [
       "(228, 63)"
      ]
     },
     "execution_count": 8,
     "metadata": {},
     "output_type": "execute_result"
    }
   ],
   "source": [
    "td = remove_low_firing_neurons(td, \"M1_spikes\", 5)\n",
    "td = remove_low_firing_neurons(td, \"PMd_spikes\", 5)\n",
    "\n",
    "td.M1_spikes[0].shape"
   ]
  },
  {
   "cell_type": "code",
   "execution_count": 9,
   "metadata": {},
   "outputs": [
    {
     "data": {
      "text/plain": [
       "array([[0., 0., 0., ..., 2., 0., 0.],\n",
       "       [0., 1., 1., ..., 0., 1., 0.],\n",
       "       [0., 1., 0., ..., 1., 0., 1.],\n",
       "       ...,\n",
       "       [0., 1., 0., ..., 0., 1., 0.],\n",
       "       [0., 0., 0., ..., 0., 0., 0.],\n",
       "       [0., 1., 0., ..., 2., 1., 0.]])"
      ]
     },
     "execution_count": 9,
     "metadata": {},
     "output_type": "execute_result"
    }
   ],
   "source": [
    "td = transform_signal(td, \"M1_spikes\", 'sqrt')\n",
    "td = transform_signal(td, \"PMd_spikes\", 'sqrt')\n",
    "\n",
    "# alternatively\n",
    "#df = sqrt_transform_signal(df, \"M1_spikes\", \"sqrt\")\n",
    "\n",
    "td.M1_spikes[0] ** 2"
   ]
  },
  {
   "cell_type": "code",
   "execution_count": 10,
   "metadata": {},
   "outputs": [],
   "source": [
    "td = merge_signals(td, [\"M1_spikes\", \"PMd_spikes\"], \"both_spikes\")\n",
    "td.both_spikes[0].shape"
   ]
  },
  {
   "cell_type": "code",
   "execution_count": 12,
   "metadata": {},
   "outputs": [],
   "source": [
    "# works on \"_spikes\" fields\n",
    "td = add_firing_rates(td, 'smooth')\n",
    "\n",
    "# for other fields use smooth_signals()"
   ]
  },
  {
   "cell_type": "code",
   "execution_count": 13,
   "metadata": {},
   "outputs": [
    {
     "data": {
      "text/plain": [
       "<AxesSubplot:>"
      ]
     },
     "execution_count": 13,
     "metadata": {},
     "output_type": "execute_result"
    },
    {
     "data": {
      "image/png": "[encoded data removed]",
      "text/plain": [
       "<Figure size 1440x432 with 4 Axes>"
      ]
     },
     "metadata": {
      "needs_background": "light"
     },
     "output_type": "display_data"
    }
   ],
   "source": [
    "fig, ax = plt.subplots(figsize = (20, 6), ncols = 2)\n",
    "\n",
    "sns.heatmap(td.M1_spikes[0], ax=ax[0])\n",
    "sns.heatmap(td.M1_rates[0], ax=ax[1])"
   ]
  },
  {
   "cell_type": "code",
   "execution_count": 14,
   "metadata": {},
   "outputs": [],
   "source": [
    "@utils.copy_td\n",
    "def select_trials(trial_data, query_str, reset_index=True):\n",
    "    \"\"\"\n",
    "    query : str, function, mask, indices\n",
    "    \"\"\"\n",
    "    if reset_index:\n",
    "        return trial_data.query(query_str).reset_index(drop=True)\n",
    "    else:\n",
    "        return trial_data.query(query_str)"
   ]
  },
  {
   "cell_type": "code",
   "execution_count": 82,
   "metadata": {},
   "outputs": [
    {
     "name": "stdout",
     "output_type": "stream",
     "text": [
      "286\n",
      "286\n"
     ]
    }
   ],
   "source": [
    "# select only the successful trials\n",
    "print(td.shape[0])\n",
    "\n",
    "td = select_trials(td, \"result == 'R'\")\n",
    "\n",
    "print(td.shape[0])"
   ]
  },
  {
   "cell_type": "code",
   "execution_count": 93,
   "metadata": {},
   "outputs": [
    {
     "name": "stdout",
     "output_type": "stream",
     "text": [
      "(228, 172)\n",
      "(41, 172)\n"
     ]
    }
   ],
   "source": [
    "# we could rename before and after to rel_start and rel_end or something similar\n",
    "move_td = restrict_to_interval(td, \"idx_movement_on\", before=0, after=40)\n",
    "\n",
    "print(td.both_rates[0].shape)\n",
    "print(move_td.both_rates[0].shape)"
   ]
  },
  {
   "cell_type": "code",
   "execution_count": 94,
   "metadata": {},
   "outputs": [],
   "source": [
    "# center per time point\n",
    "move_td = subtract_cross_condition_mean(move_td)"
   ]
  },
  {
   "cell_type": "code",
   "execution_count": 95,
   "metadata": {},
   "outputs": [
    {
     "data": {
      "text/plain": [
       "(11726, 172)"
      ]
     },
     "execution_count": 95,
     "metadata": {},
     "output_type": "execute_result"
    }
   ],
   "source": [
    "# new issue: stack trials\n",
    "\n",
    "concat_trials(move_td, \"both_rates\").shape"
   ]
  },
  {
   "cell_type": "code",
   "execution_count": 96,
   "metadata": {},
   "outputs": [],
   "source": [
    "from sklearn.decomposition import PCA"
   ]
  },
  {
   "cell_type": "code",
   "execution_count": 106,
   "metadata": {},
   "outputs": [],
   "source": [
    "pca_dims = 15\n",
    "\n",
    "move_td = tools.dim_reduce(move_td, PCA(pca_dims), \"M1_rates\",   \"M1_proj\")\n",
    "move_td = tools.dim_reduce(move_td, PCA(pca_dims), \"PMd_rates\",  \"PMd_proj\")\n",
    "move_td = tools.dim_reduce(move_td, PCA(pca_dims), \"both_rates\", \"both_proj\")"
   ]
  },
  {
   "cell_type": "code",
   "execution_count": 107,
   "metadata": {},
   "outputs": [
    {
     "data": {
      "text/plain": [
       "(41, 15)"
      ]
     },
     "execution_count": 107,
     "metadata": {},
     "output_type": "execute_result"
    }
   ],
   "source": [
    "move_td[\"both_proj\"][0].shape"
   ]
  },
  {
   "cell_type": "code",
   "execution_count": 108,
   "metadata": {},
   "outputs": [],
   "source": [
    "move_td['target_id'] = move_td.apply(lambda trial: int(np.round((trial.target_direction + np.pi) / (0.25*np.pi))) - 1,\n",
    "                                     axis = 1)"
   ]
  },
  {
   "cell_type": "code",
   "execution_count": 109,
   "metadata": {},
   "outputs": [],
   "source": [
    "av_per_dir = trial_average(move_td, \"target_id\")"
   ]
  },
  {
   "cell_type": "code",
   "execution_count": 23,
   "metadata": {},
   "outputs": [
    {
     "data": {
      "text/html": [
       "<div>\n",
       "<style scoped>\n",
       "    .dataframe tbody tr th:only-of-type {\n",
       "        vertical-align: middle;\n",
       "    }\n",
       "\n",
       "    .dataframe tbody tr th {\n",
       "        vertical-align: top;\n",
       "    }\n",
       "\n",
       "    .dataframe thead th {\n",
       "        text-align: right;\n",
       "    }\n",
       "</style>\n",
       "<table border=\"1\" class=\"dataframe\">\n",
       "  <thead>\n",
       "    <tr style=\"text-align: right;\">\n",
       "      <th></th>\n",
       "      <th>target_direction</th>\n",
       "      <th>bin_size</th>\n",
       "      <th>perturbation_info</th>\n",
       "      <th>idx_trial_start</th>\n",
       "      <th>idx_target_on</th>\n",
       "      <th>idx_go_cue</th>\n",
       "      <th>idx_movement_on</th>\n",
       "      <th>idx_peak_speed</th>\n",
       "      <th>idx_trial_end</th>\n",
       "      <th>pos</th>\n",
       "      <th>...</th>\n",
       "      <th>M1_unit_guide</th>\n",
       "      <th>PMd_spikes</th>\n",
       "      <th>PMd_unit_guide</th>\n",
       "      <th>both_spikes</th>\n",
       "      <th>M1_rates</th>\n",
       "      <th>PMd_rates</th>\n",
       "      <th>both_rates</th>\n",
       "      <th>M1_proj</th>\n",
       "      <th>PMd_proj</th>\n",
       "      <th>both_proj</th>\n",
       "    </tr>\n",
       "  </thead>\n",
       "  <tbody>\n",
       "    <tr>\n",
       "      <th>-2.356194</th>\n",
       "      <td>-2.356194</td>\n",
       "      <td>0.02</td>\n",
       "      <td>-0.52</td>\n",
       "      <td>NaN</td>\n",
       "      <td>10.947368</td>\n",
       "      <td>45.500000</td>\n",
       "      <td>60.0</td>\n",
       "      <td>NaN</td>\n",
       "      <td>NaN</td>\n",
       "      <td>[[0.2106826151842064, -29.90345997855824], [0....</td>\n",
       "      <td>...</td>\n",
       "      <td>[[1.0, 1.0], [1.0, 2.0], [5.0, 1.0], [5.0, 2.0...</td>\n",
       "      <td>[[0.2631578947368421, 0.10526315789473684, 0.5...</td>\n",
       "      <td>[[1.0, 1.0], [1.0, 2.0], [6.0, 1.0], [0.263157...</td>\n",
       "      <td>[[0.18421052631578946, 0.34210526315789475, 0....</td>\n",
       "      <td>[[8.450363692978774, 10.604467084365503, 20.19...</td>\n",
       "      <td>[[10.66671737379504, 4.441303764684086, 23.517...</td>\n",
       "      <td>[[8.450363692978774, 10.604467084365503, 20.19...</td>\n",
       "      <td>[[10.447492526357419, -15.623925081248995, 4.9...</td>\n",
       "      <td>[[-5.783101008304498, 7.066515609862703, -11.0...</td>\n",
       "      <td>[[-3.1335000415358762, 17.88186264795241, -12....</td>\n",
       "    </tr>\n",
       "    <tr>\n",
       "      <th>-1.570796</th>\n",
       "      <td>-1.570796</td>\n",
       "      <td>0.02</td>\n",
       "      <td>-0.52</td>\n",
       "      <td>NaN</td>\n",
       "      <td>13.666667</td>\n",
       "      <td>46.264706</td>\n",
       "      <td>60.0</td>\n",
       "      <td>NaN</td>\n",
       "      <td>NaN</td>\n",
       "      <td>[[0.21796860571479973, -29.857718913091748], [...</td>\n",
       "      <td>...</td>\n",
       "      <td>[[1.0, 1.0], [1.0, 2.0], [5.0, 1.0], [5.0, 2.0...</td>\n",
       "      <td>[[0.20588235294117646, 0.029411764705882353, 0...</td>\n",
       "      <td>[[1.0, 1.0], [1.0, 2.0], [6.0, 1.0], [7.0, 2.0...</td>\n",
       "      <td>[[0.14705882352941177, 0.11764705882352941, 0....</td>\n",
       "      <td>[[8.754377696742246, 7.519167124349359, 19.885...</td>\n",
       "      <td>[[9.957076467187541, 3.9100696253169964, 19.53...</td>\n",
       "      <td>[[8.754377696742246, 7.519167124349359, 19.885...</td>\n",
       "      <td>[[11.476059738111026, -12.59427005495891, 6.57...</td>\n",
       "      <td>[[-2.0639314952297743, 11.719397677118714, -6....</td>\n",
       "      <td>[[2.4601233654778953, 18.011766729211207, -6.2...</td>\n",
       "    </tr>\n",
       "    <tr>\n",
       "      <th>-0.785398</th>\n",
       "      <td>-0.785398</td>\n",
       "      <td>0.02</td>\n",
       "      <td>-0.52</td>\n",
       "      <td>NaN</td>\n",
       "      <td>10.400000</td>\n",
       "      <td>46.210526</td>\n",
       "      <td>60.0</td>\n",
       "      <td>NaN</td>\n",
       "      <td>NaN</td>\n",
       "      <td>[[0.27660165079332105, -29.91799239310967], [0...</td>\n",
       "      <td>...</td>\n",
       "      <td>[[1.0, 1.0], [1.0, 2.0], [5.0, 1.0], [5.0, 2.0...</td>\n",
       "      <td>[[0.15789473684210525, 0.13157894736842105, 0....</td>\n",
       "      <td>[[1.0, 1.0], [1.0, 2.0], [6.0, 1.0], [0.263157...</td>\n",
       "      <td>[[0.10526315789473684, 0.2631578947368421, 0.2...</td>\n",
       "      <td>[[9.39809075724305, 9.868507249216831, 17.7230...</td>\n",
       "      <td>[[8.555919690494514, 4.478035971702621, 18.890...</td>\n",
       "      <td>[[9.39809075724305, 9.868507249216831, 17.7230...</td>\n",
       "      <td>[[8.83489036822123, -13.839549795471486, 11.69...</td>\n",
       "      <td>[[3.0629004446189727, 3.06497642974923, -9.213...</td>\n",
       "      <td>[[5.764581699366324, 10.437135757270893, -12.3...</td>\n",
       "    </tr>\n",
       "    <tr>\n",
       "      <th>0.000000</th>\n",
       "      <td>0.000000</td>\n",
       "      <td>0.02</td>\n",
       "      <td>-0.52</td>\n",
       "      <td>NaN</td>\n",
       "      <td>11.444444</td>\n",
       "      <td>46.676471</td>\n",
       "      <td>60.0</td>\n",
       "      <td>NaN</td>\n",
       "      <td>NaN</td>\n",
       "      <td>[[0.23703422536139568, -29.80662263579981], [0...</td>\n",
       "      <td>...</td>\n",
       "      <td>[[1.0, 1.0], [1.0, 2.0], [5.0, 1.0], [5.0, 2.0...</td>\n",
       "      <td>[[0.3235294117647059, 0.058823529411764705, 0....</td>\n",
       "      <td>[[1.0, 1.0], [1.0, 2.0], [6.0, 1.0], [7.0, 2.0...</td>\n",
       "      <td>[[0.20588235294117646, 0.17647058823529413, 0....</td>\n",
       "      <td>[[8.79912931756688, 9.163193381622623, 18.2911...</td>\n",
       "      <td>[[12.924823024323171, 2.740741158933666, 19.59...</td>\n",
       "      <td>[[8.79912931756688, 9.163193381622623, 18.2911...</td>\n",
       "      <td>[[13.637807986041404, -6.579848140892407, 4.95...</td>\n",
       "      <td>[[6.59254377753734, -2.1885517915442128, -12.7...</td>\n",
       "      <td>[[9.674607770778827, 9.878765239749237, -17.01...</td>\n",
       "    </tr>\n",
       "    <tr>\n",
       "      <th>0.785398</th>\n",
       "      <td>0.785398</td>\n",
       "      <td>0.02</td>\n",
       "      <td>-0.52</td>\n",
       "      <td>NaN</td>\n",
       "      <td>14.583333</td>\n",
       "      <td>46.454545</td>\n",
       "      <td>60.0</td>\n",
       "      <td>NaN</td>\n",
       "      <td>NaN</td>\n",
       "      <td>[[0.31906677147268847, -29.758718975732478], [...</td>\n",
       "      <td>...</td>\n",
       "      <td>[[1.0, 1.0], [1.0, 2.0], [5.0, 1.0], [5.0, 2.0...</td>\n",
       "      <td>[[0.12121212121212122, 0.12121212121212122, 0....</td>\n",
       "      <td>[[1.0, 1.0], [1.0, 2.0], [6.0, 1.0], [7.0, 2.0...</td>\n",
       "      <td>[[0.18181818181818182, 0.24242424242424243, 0....</td>\n",
       "      <td>[[6.923725733250186, 10.87741457294212, 20.505...</td>\n",
       "      <td>[[11.333816101356922, 6.544480647646495, 20.21...</td>\n",
       "      <td>[[6.923725733250186, 10.87741457294212, 20.505...</td>\n",
       "      <td>[[13.531511220376796, -6.639801801299522, 7.08...</td>\n",
       "      <td>[[7.998829955822668, 1.4603849331302796, -18.7...</td>\n",
       "      <td>[[12.341303211366325, 12.54486019158461, -20.0...</td>\n",
       "    </tr>\n",
       "    <tr>\n",
       "      <th>1.570796</th>\n",
       "      <td>1.570796</td>\n",
       "      <td>0.02</td>\n",
       "      <td>-0.52</td>\n",
       "      <td>NaN</td>\n",
       "      <td>10.250000</td>\n",
       "      <td>46.194444</td>\n",
       "      <td>60.0</td>\n",
       "      <td>NaN</td>\n",
       "      <td>NaN</td>\n",
       "      <td>[[0.2705106598519752, -29.754436495768157], [0...</td>\n",
       "      <td>...</td>\n",
       "      <td>[[1.0, 1.0], [1.0, 2.0], [5.0, 1.0], [5.0, 2.0...</td>\n",
       "      <td>[[0.2222222222222222, 0.03928371006591931, 0.3...</td>\n",
       "      <td>[[1.0, 1.0], [1.0, 2.0], [6.0, 1.0], [7.0, 2.0...</td>\n",
       "      <td>[[0.1111111111111111, 0.3055555555555556, 0.30...</td>\n",
       "      <td>[[7.913157031686437, 12.143054837637044, 17.67...</td>\n",
       "      <td>[[10.567191772934986, 1.895423574340226, 18.31...</td>\n",
       "      <td>[[7.913157031686437, 12.143054837637044, 17.67...</td>\n",
       "      <td>[[14.07450054941564, -12.866831201377408, 6.39...</td>\n",
       "      <td>[[-2.415444799517401, 3.093397887938704, -17.5...</td>\n",
       "      <td>[[1.8292377164221527, 18.265903774688212, -19....</td>\n",
       "    </tr>\n",
       "    <tr>\n",
       "      <th>2.356194</th>\n",
       "      <td>2.356194</td>\n",
       "      <td>0.02</td>\n",
       "      <td>-0.52</td>\n",
       "      <td>NaN</td>\n",
       "      <td>11.000000</td>\n",
       "      <td>46.324324</td>\n",
       "      <td>60.0</td>\n",
       "      <td>NaN</td>\n",
       "      <td>NaN</td>\n",
       "      <td>[[0.1133038421730419, -29.750474009870292], [0...</td>\n",
       "      <td>...</td>\n",
       "      <td>[[1.0, 1.0], [1.0, 2.0], [5.0, 1.0], [5.0, 2.0...</td>\n",
       "      <td>[[0.2702702702702703, 0.05405405405405406, 0.3...</td>\n",
       "      <td>[[1.0, 1.0], [1.0, 2.0], [6.0, 1.0], [0.081081...</td>\n",
       "      <td>[[0.1891891891891892, 0.21621621621621623, 0.2...</td>\n",
       "      <td>[[8.096662946916378, 11.399664418058014, 17.61...</td>\n",
       "      <td>[[11.765642589447998, 3.641845303324802, 21.49...</td>\n",
       "      <td>[[8.096662946916378, 11.399664418058014, 17.61...</td>\n",
       "      <td>[[8.21591072163848, -11.981202093603764, 7.814...</td>\n",
       "      <td>[[-3.0486664493851, 4.389359039357265, -18.236...</td>\n",
       "      <td>[[0.5592366320156663, 14.937447730959505, -18....</td>\n",
       "    </tr>\n",
       "    <tr>\n",
       "      <th>3.141593</th>\n",
       "      <td>3.141593</td>\n",
       "      <td>0.02</td>\n",
       "      <td>-0.52</td>\n",
       "      <td>2.0</td>\n",
       "      <td>9.700000</td>\n",
       "      <td>46.583333</td>\n",
       "      <td>60.0</td>\n",
       "      <td>NaN</td>\n",
       "      <td>NaN</td>\n",
       "      <td>[[0.20021735749565822, -29.87726026754723], [0...</td>\n",
       "      <td>...</td>\n",
       "      <td>[[1.0, 1.0], [1.0, 2.0], [5.0, 1.0], [5.0, 2.0...</td>\n",
       "      <td>[[0.2777777777777778, 0.09483926562147486, 0.3...</td>\n",
       "      <td>[[1.0, 1.0], [1.0, 2.0], [6.0, 1.0], [7.0, 2.0...</td>\n",
       "      <td>[[0.2222222222222222, 0.16666666666666666, 0.3...</td>\n",
       "      <td>[[8.0259304858501, 10.806099330656268, 19.0946...</td>\n",
       "      <td>[[9.90536530529257, 4.518331632074457, 18.1135...</td>\n",
       "      <td>[[8.0259304858501, 10.806099330656268, 19.0946...</td>\n",
       "      <td>[[10.846009012724847, -15.012289407105625, 3.1...</td>\n",
       "      <td>[[-3.842125274262098, 7.850538422495491, -17.6...</td>\n",
       "      <td>[[-1.2677897946008387, 20.182840477726497, -18...</td>\n",
       "    </tr>\n",
       "  </tbody>\n",
       "</table>\n",
       "<p>8 rows × 23 columns</p>\n",
       "</div>"
      ],
      "text/plain": [
       "           target_direction  bin_size  perturbation_info  idx_trial_start  \\\n",
       "-2.356194         -2.356194      0.02              -0.52              NaN   \n",
       "-1.570796         -1.570796      0.02              -0.52              NaN   \n",
       "-0.785398         -0.785398      0.02              -0.52              NaN   \n",
       " 0.000000          0.000000      0.02              -0.52              NaN   \n",
       " 0.785398          0.785398      0.02              -0.52              NaN   \n",
       " 1.570796          1.570796      0.02              -0.52              NaN   \n",
       " 2.356194          2.356194      0.02              -0.52              NaN   \n",
       " 3.141593          3.141593      0.02              -0.52              2.0   \n",
       "\n",
       "           idx_target_on  idx_go_cue  idx_movement_on  idx_peak_speed  \\\n",
       "-2.356194      10.947368   45.500000             60.0             NaN   \n",
       "-1.570796      13.666667   46.264706             60.0             NaN   \n",
       "-0.785398      10.400000   46.210526             60.0             NaN   \n",
       " 0.000000      11.444444   46.676471             60.0             NaN   \n",
       " 0.785398      14.583333   46.454545             60.0             NaN   \n",
       " 1.570796      10.250000   46.194444             60.0             NaN   \n",
       " 2.356194      11.000000   46.324324             60.0             NaN   \n",
       " 3.141593       9.700000   46.583333             60.0             NaN   \n",
       "\n",
       "           idx_trial_end                                                pos  \\\n",
       "-2.356194            NaN  [[0.2106826151842064, -29.90345997855824], [0....   \n",
       "-1.570796            NaN  [[0.21796860571479973, -29.857718913091748], [...   \n",
       "-0.785398            NaN  [[0.27660165079332105, -29.91799239310967], [0...   \n",
       " 0.000000            NaN  [[0.23703422536139568, -29.80662263579981], [0...   \n",
       " 0.785398            NaN  [[0.31906677147268847, -29.758718975732478], [...   \n",
       " 1.570796            NaN  [[0.2705106598519752, -29.754436495768157], [0...   \n",
       " 2.356194            NaN  [[0.1133038421730419, -29.750474009870292], [0...   \n",
       " 3.141593            NaN  [[0.20021735749565822, -29.87726026754723], [0...   \n",
       "\n",
       "           ...                                      M1_unit_guide  \\\n",
       "-2.356194  ...  [[1.0, 1.0], [1.0, 2.0], [5.0, 1.0], [5.0, 2.0...   \n",
       "-1.570796  ...  [[1.0, 1.0], [1.0, 2.0], [5.0, 1.0], [5.0, 2.0...   \n",
       "-0.785398  ...  [[1.0, 1.0], [1.0, 2.0], [5.0, 1.0], [5.0, 2.0...   \n",
       " 0.000000  ...  [[1.0, 1.0], [1.0, 2.0], [5.0, 1.0], [5.0, 2.0...   \n",
       " 0.785398  ...  [[1.0, 1.0], [1.0, 2.0], [5.0, 1.0], [5.0, 2.0...   \n",
       " 1.570796  ...  [[1.0, 1.0], [1.0, 2.0], [5.0, 1.0], [5.0, 2.0...   \n",
       " 2.356194  ...  [[1.0, 1.0], [1.0, 2.0], [5.0, 1.0], [5.0, 2.0...   \n",
       " 3.141593  ...  [[1.0, 1.0], [1.0, 2.0], [5.0, 1.0], [5.0, 2.0...   \n",
       "\n",
       "                                                  PMd_spikes  \\\n",
       "-2.356194  [[0.2631578947368421, 0.10526315789473684, 0.5...   \n",
       "-1.570796  [[0.20588235294117646, 0.029411764705882353, 0...   \n",
       "-0.785398  [[0.15789473684210525, 0.13157894736842105, 0....   \n",
       " 0.000000  [[0.3235294117647059, 0.058823529411764705, 0....   \n",
       " 0.785398  [[0.12121212121212122, 0.12121212121212122, 0....   \n",
       " 1.570796  [[0.2222222222222222, 0.03928371006591931, 0.3...   \n",
       " 2.356194  [[0.2702702702702703, 0.05405405405405406, 0.3...   \n",
       " 3.141593  [[0.2777777777777778, 0.09483926562147486, 0.3...   \n",
       "\n",
       "                                              PMd_unit_guide  \\\n",
       "-2.356194  [[1.0, 1.0], [1.0, 2.0], [6.0, 1.0], [0.263157...   \n",
       "-1.570796  [[1.0, 1.0], [1.0, 2.0], [6.0, 1.0], [7.0, 2.0...   \n",
       "-0.785398  [[1.0, 1.0], [1.0, 2.0], [6.0, 1.0], [0.263157...   \n",
       " 0.000000  [[1.0, 1.0], [1.0, 2.0], [6.0, 1.0], [7.0, 2.0...   \n",
       " 0.785398  [[1.0, 1.0], [1.0, 2.0], [6.0, 1.0], [7.0, 2.0...   \n",
       " 1.570796  [[1.0, 1.0], [1.0, 2.0], [6.0, 1.0], [7.0, 2.0...   \n",
       " 2.356194  [[1.0, 1.0], [1.0, 2.0], [6.0, 1.0], [0.081081...   \n",
       " 3.141593  [[1.0, 1.0], [1.0, 2.0], [6.0, 1.0], [7.0, 2.0...   \n",
       "\n",
       "                                                 both_spikes  \\\n",
       "-2.356194  [[0.18421052631578946, 0.34210526315789475, 0....   \n",
       "-1.570796  [[0.14705882352941177, 0.11764705882352941, 0....   \n",
       "-0.785398  [[0.10526315789473684, 0.2631578947368421, 0.2...   \n",
       " 0.000000  [[0.20588235294117646, 0.17647058823529413, 0....   \n",
       " 0.785398  [[0.18181818181818182, 0.24242424242424243, 0....   \n",
       " 1.570796  [[0.1111111111111111, 0.3055555555555556, 0.30...   \n",
       " 2.356194  [[0.1891891891891892, 0.21621621621621623, 0.2...   \n",
       " 3.141593  [[0.2222222222222222, 0.16666666666666666, 0.3...   \n",
       "\n",
       "                                                    M1_rates  \\\n",
       "-2.356194  [[8.450363692978774, 10.604467084365503, 20.19...   \n",
       "-1.570796  [[8.754377696742246, 7.519167124349359, 19.885...   \n",
       "-0.785398  [[9.39809075724305, 9.868507249216831, 17.7230...   \n",
       " 0.000000  [[8.79912931756688, 9.163193381622623, 18.2911...   \n",
       " 0.785398  [[6.923725733250186, 10.87741457294212, 20.505...   \n",
       " 1.570796  [[7.913157031686437, 12.143054837637044, 17.67...   \n",
       " 2.356194  [[8.096662946916378, 11.399664418058014, 17.61...   \n",
       " 3.141593  [[8.0259304858501, 10.806099330656268, 19.0946...   \n",
       "\n",
       "                                                   PMd_rates  \\\n",
       "-2.356194  [[10.66671737379504, 4.441303764684086, 23.517...   \n",
       "-1.570796  [[9.957076467187541, 3.9100696253169964, 19.53...   \n",
       "-0.785398  [[8.555919690494514, 4.478035971702621, 18.890...   \n",
       " 0.000000  [[12.924823024323171, 2.740741158933666, 19.59...   \n",
       " 0.785398  [[11.333816101356922, 6.544480647646495, 20.21...   \n",
       " 1.570796  [[10.567191772934986, 1.895423574340226, 18.31...   \n",
       " 2.356194  [[11.765642589447998, 3.641845303324802, 21.49...   \n",
       " 3.141593  [[9.90536530529257, 4.518331632074457, 18.1135...   \n",
       "\n",
       "                                                  both_rates  \\\n",
       "-2.356194  [[8.450363692978774, 10.604467084365503, 20.19...   \n",
       "-1.570796  [[8.754377696742246, 7.519167124349359, 19.885...   \n",
       "-0.785398  [[9.39809075724305, 9.868507249216831, 17.7230...   \n",
       " 0.000000  [[8.79912931756688, 9.163193381622623, 18.2911...   \n",
       " 0.785398  [[6.923725733250186, 10.87741457294212, 20.505...   \n",
       " 1.570796  [[7.913157031686437, 12.143054837637044, 17.67...   \n",
       " 2.356194  [[8.096662946916378, 11.399664418058014, 17.61...   \n",
       " 3.141593  [[8.0259304858501, 10.806099330656268, 19.0946...   \n",
       "\n",
       "                                                     M1_proj  \\\n",
       "-2.356194  [[10.447492526357419, -15.623925081248995, 4.9...   \n",
       "-1.570796  [[11.476059738111026, -12.59427005495891, 6.57...   \n",
       "-0.785398  [[8.83489036822123, -13.839549795471486, 11.69...   \n",
       " 0.000000  [[13.637807986041404, -6.579848140892407, 4.95...   \n",
       " 0.785398  [[13.531511220376796, -6.639801801299522, 7.08...   \n",
       " 1.570796  [[14.07450054941564, -12.866831201377408, 6.39...   \n",
       " 2.356194  [[8.21591072163848, -11.981202093603764, 7.814...   \n",
       " 3.141593  [[10.846009012724847, -15.012289407105625, 3.1...   \n",
       "\n",
       "                                                    PMd_proj  \\\n",
       "-2.356194  [[-5.783101008304498, 7.066515609862703, -11.0...   \n",
       "-1.570796  [[-2.0639314952297743, 11.719397677118714, -6....   \n",
       "-0.785398  [[3.0629004446189727, 3.06497642974923, -9.213...   \n",
       " 0.000000  [[6.59254377753734, -2.1885517915442128, -12.7...   \n",
       " 0.785398  [[7.998829955822668, 1.4603849331302796, -18.7...   \n",
       " 1.570796  [[-2.415444799517401, 3.093397887938704, -17.5...   \n",
       " 2.356194  [[-3.0486664493851, 4.389359039357265, -18.236...   \n",
       " 3.141593  [[-3.842125274262098, 7.850538422495491, -17.6...   \n",
       "\n",
       "                                                   both_proj  \n",
       "-2.356194  [[-3.1335000415358762, 17.88186264795241, -12....  \n",
       "-1.570796  [[2.4601233654778953, 18.011766729211207, -6.2...  \n",
       "-0.785398  [[5.764581699366324, 10.437135757270893, -12.3...  \n",
       " 0.000000  [[9.674607770778827, 9.878765239749237, -17.01...  \n",
       " 0.785398  [[12.341303211366325, 12.54486019158461, -20.0...  \n",
       " 1.570796  [[1.8292377164221527, 18.265903774688212, -19....  \n",
       " 2.356194  [[0.5592366320156663, 14.937447730959505, -18....  \n",
       " 3.141593  [[-1.2677897946008387, 20.182840477726497, -18...  \n",
       "\n",
       "[8 rows x 23 columns]"
      ]
     },
     "execution_count": 23,
     "metadata": {},
     "output_type": "execute_result"
    }
   ],
   "source": [
    "av_per_dir"
   ]
  },
  {
   "cell_type": "code",
   "execution_count": 110,
   "metadata": {},
   "outputs": [
    {
     "data": {
      "image/png": "[encoded data removed]",
      "text/plain": [
       "<Figure size 576x576 with 1 Axes>"
      ]
     },
     "metadata": {
      "needs_background": "light"
     },
     "output_type": "display_data"
    }
   ],
   "source": [
    "fig, ax = plt.subplots(figsize = (8, 8))\n",
    "\n",
    "for dir_proj in av_per_dir[\"both_proj\"]:\n",
    "    ax.scatter(*dir_proj[:, :2].T)"
   ]
  },
  {
   "cell_type": "code",
   "execution_count": 111,
   "metadata": {},
   "outputs": [],
   "source": [
    "from sklearn.linear_model import Ridge\n",
    "from sklearn.model_selection import cross_val_score"
   ]
  },
  {
   "cell_type": "code",
   "execution_count": 112,
   "metadata": {},
   "outputs": [],
   "source": [
    "X = concat_trials(move_td, \"both_proj\")\n",
    "y = concat_trials(move_td, \"vel\")"
   ]
  },
  {
   "cell_type": "code",
   "execution_count": 118,
   "metadata": {},
   "outputs": [],
   "source": [
    "cv_scores = cross_val_score(Ridge(), X, y, cv = 5)"
   ]
  },
  {
   "cell_type": "code",
   "execution_count": 120,
   "metadata": {},
   "outputs": [
    {
     "data": {
      "text/plain": [
       "0.8103138289186805"
      ]
     },
     "execution_count": 120,
     "metadata": {},
     "output_type": "execute_result"
    }
   ],
   "source": [
    "cv_scores.mean()"
   ]
  },
  {
   "cell_type": "code",
   "execution_count": 121,
   "metadata": {},
   "outputs": [],
   "source": [
    "move_td = add_norm(move_td, \"vel\")"
   ]
  },
  {
   "cell_type": "code",
   "execution_count": 123,
   "metadata": {},
   "outputs": [
    {
     "data": {
      "text/plain": [
       "[<matplotlib.lines.Line2D at 0x15c380ca0>]"
      ]
     },
     "execution_count": 123,
     "metadata": {},
     "output_type": "execute_result"
    },
    {
     "data": {
      "image/png": "[encoded data removed]",
      "text/plain": [
       "<Figure size 432x288 with 1 Axes>"
      ]
     },
     "metadata": {
      "needs_background": "light"
     },
     "output_type": "display_data"
    }
   ],
   "source": [
    "plt.plot(move_td.vel_norm[0])"
   ]
  },
  {
   "cell_type": "code",
   "execution_count": null,
   "metadata": {},
   "outputs": [],
   "source": []
  }
 ],
 "metadata": {
  "jupytext": {
   "formats": "ipynb,py:percent"
  },
  "kernelspec": {
   "display_name": "Python 3.8 (subspaces)",
   "language": "python",
   "name": "subspaces"
  },
  "language_info": {
   "codemirror_mode": {
    "name": "ipython",
    "version": 3
   },
   "file_extension": ".py",
   "mimetype": "text/x-python",
   "name": "python",
   "nbconvert_exporter": "python",
   "pygments_lexer": "ipython3",
   "version": "3.8.6"
  }
 },
 "nbformat": 4,
 "nbformat_minor": 4
}
